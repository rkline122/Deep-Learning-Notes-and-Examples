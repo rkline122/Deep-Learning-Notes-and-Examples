{
  "nbformat": 4,
  "nbformat_minor": 0,
  "metadata": {
    "colab": {
      "provenance": []
    },
    "kernelspec": {
      "name": "python3",
      "display_name": "Python 3"
    },
    "language_info": {
      "name": "python"
    },
    "gpuClass": "standard",
    "accelerator": "GPU"
  },
  "cells": [
    {
      "cell_type": "code",
      "execution_count": null,
      "metadata": {
        "id": "j8o5E2hn6Kim"
      },
      "outputs": [],
      "source": [
        "!pip install tensorflow\n",
        "!pip install numpy"
      ]
    },
    {
      "cell_type": "code",
      "source": [
        "from tensorflow.keras.datasets import imdb\n",
        "from tensorflow import keras\n",
        "from tensorflow.keras import layers\n",
        "import numpy as np"
      ],
      "metadata": {
        "id": "MewU4xVGhRQn"
      },
      "execution_count": 10,
      "outputs": []
    },
    {
      "cell_type": "code",
      "source": [
        "\"\"\"\n",
        "Loading the dataset \n",
        "\n",
        "- data are lists of reviews -- each review is a list of word indices (encoding a sequence of words)\n",
        "- labels are 0's and 1's (positive/negative reviews)\n",
        "\"\"\"\n",
        "num_words = 10000\n",
        "\n",
        "(train_data, train_labels), (test_data, test_labels) = imdb.load_data(\n",
        "    num_words=num_words) # Only keep the top 10,000 most frequently occuring words in training data\n",
        "\n",
        "\n",
        "# Decoding reviews back to text\n",
        "word_index = imdb.get_word_index()\n",
        "reverse_word_index = dict(\n",
        "    [(value, key) for (key, value) in word_index.items()])\n",
        "decoded_review = \" \".join(\n",
        "    [reverse_word_index.get(i - 3, \"?\") for i in train_data[0]])\n",
        "\n",
        "print(decoded_review)\n",
        "\n"
      ],
      "metadata": {
        "colab": {
          "base_uri": "https://localhost:8080/"
        },
        "id": "NPvDKJ-36gbz",
        "outputId": "7476dfcb-429a-4d0f-9433-22de4572398d"
      },
      "execution_count": 11,
      "outputs": [
        {
          "output_type": "stream",
          "name": "stdout",
          "text": [
            "? this film was just brilliant casting location scenery story direction everyone's really suited the part they played and you could just imagine being there robert ? is an amazing actor and now the same being director ? father came from the same scottish island as myself so i loved the fact there was a real connection with this film the witty remarks throughout the film were great it was just brilliant so much that i bought the film as soon as it was released for ? and would recommend it to everyone to watch and the fly fishing was amazing really cried at the end it was so sad and you know what they say if you cry at a film it must have been good and this definitely was also ? to the two little boy's that played the ? of norman and paul they were just brilliant children are often left out of the ? list i think because the stars that play them all grown up are such a big profile for the whole film but these children are amazing and should be praised for what they have done don't you think the whole story was so lovely because it was true and was someone's life after all that was shared with us all\n"
          ]
        }
      ]
    },
    {
      "cell_type": "code",
      "source": [
        "# ------------- Preparing the data --------------------- #\n",
        "\"\"\"\n",
        "  Can't feed lists of integers into a neural network. \n",
        "  Must turn lists into tensors.\n",
        "\n",
        "  This is done in one of two ways:\n",
        "\n",
        "    1. Pad lists so they have the same length, then turn them into a tensor of \n",
        "    shape (samples, max_length) \n",
        "\n",
        "    2. Multi-Hot Encode - lists turn into vectors of 0's and 1's\n",
        "\"\"\"\n",
        "\n",
        "# Encoding with multi-hot\n",
        "def vectorize_sequences(sequences, dimension=num_words):\n",
        "  \"\"\"\n",
        "    Creates vectors of 0's and 1's where each row corresponds to a sequence and \n",
        "    each column corresponds to a specific word in a predefined vocabulary. \n",
        "    \n",
        "    If a word appears in a sequence, the corresponding entry in the matrix is \n",
        "    set to 1, otherwise it is left as 0.\n",
        "  \"\"\"\n",
        "  results = np.zeros((len(sequences), dimension))\n",
        "  for i, sequence in enumerate(sequences):\n",
        "    for j in sequence:\n",
        "      results[i,j] = 1\n",
        "\n",
        "  return results\n",
        "\n",
        "# Vectorizing data\n",
        "print(\"Vectorizing Data:\\n=========================\\n\")\n",
        "print(f\"Before: {train_data}\\n\")\n",
        "\n",
        "x_train = vectorize_sequences(train_data)\n",
        "x_test = vectorize_sequences(test_data)\n",
        "\n",
        "print(f\"After: {x_train}\\n\")\n",
        "\n",
        "# Vectorizing labels\n",
        "print(\"Vectorizing Labels:\\n=========================\\n\")\n",
        "print(f\"Before: {train_labels}\\n\")\n",
        "\n",
        "y_train = np.asarray(train_labels).astype(\"float32\")\n",
        "y_test = np.asarray(train_labels).astype(\"float32\")\n",
        "\n",
        "print(f\"After: {y_train}\\n\")\n"
      ],
      "metadata": {
        "colab": {
          "base_uri": "https://localhost:8080/"
        },
        "id": "lAVDDHxNhXeT",
        "outputId": "56b81a19-8f6b-4f80-d98f-34a9f5bb0ace"
      },
      "execution_count": 12,
      "outputs": [
        {
          "output_type": "stream",
          "name": "stdout",
          "text": [
            "Vectorizing Data:\n",
            "=========================\n",
            "\n",
            "Before: [list([1, 14, 22, 16, 43, 530, 973, 1622, 1385, 65, 458, 4468, 66, 3941, 4, 173, 36, 256, 5, 25, 100, 43, 838, 112, 50, 670, 2, 9, 35, 480, 284, 5, 150, 4, 172, 112, 167, 2, 336, 385, 39, 4, 172, 4536, 1111, 17, 546, 38, 13, 447, 4, 192, 50, 16, 6, 147, 2025, 19, 14, 22, 4, 1920, 4613, 469, 4, 22, 71, 87, 12, 16, 43, 530, 38, 76, 15, 13, 1247, 4, 22, 17, 515, 17, 12, 16, 626, 18, 2, 5, 62, 386, 12, 8, 316, 8, 106, 5, 4, 2223, 5244, 16, 480, 66, 3785, 33, 4, 130, 12, 16, 38, 619, 5, 25, 124, 51, 36, 135, 48, 25, 1415, 33, 6, 22, 12, 215, 28, 77, 52, 5, 14, 407, 16, 82, 2, 8, 4, 107, 117, 5952, 15, 256, 4, 2, 7, 3766, 5, 723, 36, 71, 43, 530, 476, 26, 400, 317, 46, 7, 4, 2, 1029, 13, 104, 88, 4, 381, 15, 297, 98, 32, 2071, 56, 26, 141, 6, 194, 7486, 18, 4, 226, 22, 21, 134, 476, 26, 480, 5, 144, 30, 5535, 18, 51, 36, 28, 224, 92, 25, 104, 4, 226, 65, 16, 38, 1334, 88, 12, 16, 283, 5, 16, 4472, 113, 103, 32, 15, 16, 5345, 19, 178, 32])\n",
            " list([1, 194, 1153, 194, 8255, 78, 228, 5, 6, 1463, 4369, 5012, 134, 26, 4, 715, 8, 118, 1634, 14, 394, 20, 13, 119, 954, 189, 102, 5, 207, 110, 3103, 21, 14, 69, 188, 8, 30, 23, 7, 4, 249, 126, 93, 4, 114, 9, 2300, 1523, 5, 647, 4, 116, 9, 35, 8163, 4, 229, 9, 340, 1322, 4, 118, 9, 4, 130, 4901, 19, 4, 1002, 5, 89, 29, 952, 46, 37, 4, 455, 9, 45, 43, 38, 1543, 1905, 398, 4, 1649, 26, 6853, 5, 163, 11, 3215, 2, 4, 1153, 9, 194, 775, 7, 8255, 2, 349, 2637, 148, 605, 2, 8003, 15, 123, 125, 68, 2, 6853, 15, 349, 165, 4362, 98, 5, 4, 228, 9, 43, 2, 1157, 15, 299, 120, 5, 120, 174, 11, 220, 175, 136, 50, 9, 4373, 228, 8255, 5, 2, 656, 245, 2350, 5, 4, 9837, 131, 152, 491, 18, 2, 32, 7464, 1212, 14, 9, 6, 371, 78, 22, 625, 64, 1382, 9, 8, 168, 145, 23, 4, 1690, 15, 16, 4, 1355, 5, 28, 6, 52, 154, 462, 33, 89, 78, 285, 16, 145, 95])\n",
            " list([1, 14, 47, 8, 30, 31, 7, 4, 249, 108, 7, 4, 5974, 54, 61, 369, 13, 71, 149, 14, 22, 112, 4, 2401, 311, 12, 16, 3711, 33, 75, 43, 1829, 296, 4, 86, 320, 35, 534, 19, 263, 4821, 1301, 4, 1873, 33, 89, 78, 12, 66, 16, 4, 360, 7, 4, 58, 316, 334, 11, 4, 1716, 43, 645, 662, 8, 257, 85, 1200, 42, 1228, 2578, 83, 68, 3912, 15, 36, 165, 1539, 278, 36, 69, 2, 780, 8, 106, 14, 6905, 1338, 18, 6, 22, 12, 215, 28, 610, 40, 6, 87, 326, 23, 2300, 21, 23, 22, 12, 272, 40, 57, 31, 11, 4, 22, 47, 6, 2307, 51, 9, 170, 23, 595, 116, 595, 1352, 13, 191, 79, 638, 89, 2, 14, 9, 8, 106, 607, 624, 35, 534, 6, 227, 7, 129, 113])\n",
            " ...\n",
            " list([1, 11, 6, 230, 245, 6401, 9, 6, 1225, 446, 2, 45, 2174, 84, 8322, 4007, 21, 4, 912, 84, 2, 325, 725, 134, 2, 1715, 84, 5, 36, 28, 57, 1099, 21, 8, 140, 8, 703, 5, 2, 84, 56, 18, 1644, 14, 9, 31, 7, 4, 9406, 1209, 2295, 2, 1008, 18, 6, 20, 207, 110, 563, 12, 8, 2901, 2, 8, 97, 6, 20, 53, 4767, 74, 4, 460, 364, 1273, 29, 270, 11, 960, 108, 45, 40, 29, 2961, 395, 11, 6, 4065, 500, 7, 2, 89, 364, 70, 29, 140, 4, 64, 4780, 11, 4, 2678, 26, 178, 4, 529, 443, 2, 5, 27, 710, 117, 2, 8123, 165, 47, 84, 37, 131, 818, 14, 595, 10, 10, 61, 1242, 1209, 10, 10, 288, 2260, 1702, 34, 2901, 2, 4, 65, 496, 4, 231, 7, 790, 5, 6, 320, 234, 2766, 234, 1119, 1574, 7, 496, 4, 139, 929, 2901, 2, 7750, 5, 4241, 18, 4, 8497, 2, 250, 11, 1818, 7561, 4, 4217, 5408, 747, 1115, 372, 1890, 1006, 541, 9303, 7, 4, 59, 2, 4, 3586, 2])\n",
            " list([1, 1446, 7079, 69, 72, 3305, 13, 610, 930, 8, 12, 582, 23, 5, 16, 484, 685, 54, 349, 11, 4120, 2959, 45, 58, 1466, 13, 197, 12, 16, 43, 23, 2, 5, 62, 30, 145, 402, 11, 4131, 51, 575, 32, 61, 369, 71, 66, 770, 12, 1054, 75, 100, 2198, 8, 4, 105, 37, 69, 147, 712, 75, 3543, 44, 257, 390, 5, 69, 263, 514, 105, 50, 286, 1814, 23, 4, 123, 13, 161, 40, 5, 421, 4, 116, 16, 897, 13, 2, 40, 319, 5872, 112, 6700, 11, 4803, 121, 25, 70, 3468, 4, 719, 3798, 13, 18, 31, 62, 40, 8, 7200, 4, 2, 7, 14, 123, 5, 942, 25, 8, 721, 12, 145, 5, 202, 12, 160, 580, 202, 12, 6, 52, 58, 2, 92, 401, 728, 12, 39, 14, 251, 8, 15, 251, 5, 2, 12, 38, 84, 80, 124, 12, 9, 23])\n",
            " list([1, 17, 6, 194, 337, 7, 4, 204, 22, 45, 254, 8, 106, 14, 123, 4, 2, 270, 2, 5, 2, 2, 732, 2098, 101, 405, 39, 14, 1034, 4, 1310, 9, 115, 50, 305, 12, 47, 4, 168, 5, 235, 7, 38, 111, 699, 102, 7, 4, 4039, 9245, 9, 24, 6, 78, 1099, 17, 2345, 2, 21, 27, 9685, 6139, 5, 2, 1603, 92, 1183, 4, 1310, 7, 4, 204, 42, 97, 90, 35, 221, 109, 29, 127, 27, 118, 8, 97, 12, 157, 21, 6789, 2, 9, 6, 66, 78, 1099, 4, 631, 1191, 5, 2642, 272, 191, 1070, 6, 7585, 8, 2197, 2, 2, 544, 5, 383, 1271, 848, 1468, 2, 497, 2, 8, 1597, 8778, 2, 21, 60, 27, 239, 9, 43, 8368, 209, 405, 10, 10, 12, 764, 40, 4, 248, 20, 12, 16, 5, 174, 1791, 72, 7, 51, 6, 1739, 22, 4, 204, 131, 9])]\n",
            "\n",
            "After: [[0. 1. 1. ... 0. 0. 0.]\n",
            " [0. 1. 1. ... 0. 0. 0.]\n",
            " [0. 1. 1. ... 0. 0. 0.]\n",
            " ...\n",
            " [0. 1. 1. ... 0. 0. 0.]\n",
            " [0. 1. 1. ... 0. 0. 0.]\n",
            " [0. 1. 1. ... 0. 0. 0.]]\n",
            "\n",
            "Vectorizing Labels:\n",
            "=========================\n",
            "\n",
            "Before: [1 0 0 ... 0 1 0]\n",
            "\n",
            "After: [1. 0. 0. ... 0. 1. 0.]\n",
            "\n"
          ]
        }
      ]
    },
    {
      "cell_type": "code",
      "source": [
        "# ------------- Building the Model --------------------- #\n",
        "\"\"\"\n",
        "  Two key architecture decisions to be made:\n",
        "\n",
        "    1. How many layers to use\n",
        "    2. How many units to choose for each layer\n",
        "\n",
        "  For this example, we will have:\n",
        "    - 2 intermediate layers with 16 units each\n",
        "    - A 3rd layer that will output the scalar prediction for the current review\n",
        "\n",
        "\"\"\"\n",
        "\n",
        "model = keras.Sequential([\n",
        "    # The first argument is the number of units in the layer \n",
        "    # (dimensionality of the layer)\n",
        "    layers.Dense(16, activation=\"relu\"),    # ReLU stands for Rectified Linear Unit - returns the input value if it is positive and zero otherwise. \n",
        "    layers.Dense(16, activation=\"relu\"),\n",
        "    layers.Dense(1, activation=\"sigmoid\")   # sigmoid maps any input value to a range between 0 and 1. Output is interpreted as the probability of the input belonging to the positive class.\n",
        "])\n",
        "\n",
        "\n",
        "# Compiling the model\n",
        "model.compile(\n",
        "    optimizer=\"rmsprop\",\n",
        "    loss=\"binary_crossentropy\",\n",
        "    metrics=[\"accuracy\"\n",
        "])"
      ],
      "metadata": {
        "id": "ay0acF3Thbsa"
      },
      "execution_count": 13,
      "outputs": []
    },
    {
      "cell_type": "code",
      "source": [
        "# ------------- Validating the Model --------------------- #\n",
        "\n",
        "\n",
        "# Creating a validation set of 10,000 samples\n",
        "x_val = x_train[:num_words]\n",
        "partial_x_train = x_train[num_words:]\n",
        "y_val = y_train[:num_words]\n",
        "partial_y_train = y_train[num_words:]\n",
        "\n",
        "\n",
        "# Training the model\n",
        "\"\"\"\n",
        "  - model.fit() returns a History objects which contains data about everything \n",
        "  that happend during training\n",
        "\n",
        "  - epochs = number of iterations over all samples in training data\n",
        "\n",
        "  - Monitor loss and accuracy by passing validation_data arg.\n",
        "\"\"\"\n",
        "history = model.fit(\n",
        "    partial_x_train,\n",
        "    partial_y_train,\n",
        "    epochs=20,\n",
        "    batch_size=512,\n",
        "    validation_data=(x_val, y_val)\n",
        ")"
      ],
      "metadata": {
        "colab": {
          "base_uri": "https://localhost:8080/"
        },
        "id": "i_BldtcmhgSM",
        "outputId": "48e3dca1-4b36-45df-d49c-8fe44ed84ed0"
      },
      "execution_count": 16,
      "outputs": [
        {
          "output_type": "stream",
          "name": "stdout",
          "text": [
            "Epoch 1/20\n",
            "30/30 [==============================] - 3s 60ms/step - loss: 0.5261 - accuracy: 0.7873 - val_loss: 0.4079 - val_accuracy: 0.8576\n",
            "Epoch 2/20\n",
            "30/30 [==============================] - 1s 25ms/step - loss: 0.3326 - accuracy: 0.8931 - val_loss: 0.3177 - val_accuracy: 0.8842\n",
            "Epoch 3/20\n",
            "30/30 [==============================] - 1s 22ms/step - loss: 0.2495 - accuracy: 0.9181 - val_loss: 0.3030 - val_accuracy: 0.8763\n",
            "Epoch 4/20\n",
            "30/30 [==============================] - 1s 22ms/step - loss: 0.2027 - accuracy: 0.9325 - val_loss: 0.2927 - val_accuracy: 0.8802\n",
            "Epoch 5/20\n",
            "30/30 [==============================] - 1s 23ms/step - loss: 0.1731 - accuracy: 0.9423 - val_loss: 0.2897 - val_accuracy: 0.8815\n",
            "Epoch 6/20\n",
            "30/30 [==============================] - 1s 24ms/step - loss: 0.1439 - accuracy: 0.9546 - val_loss: 0.2868 - val_accuracy: 0.8862\n",
            "Epoch 7/20\n",
            "30/30 [==============================] - 1s 25ms/step - loss: 0.1259 - accuracy: 0.9610 - val_loss: 0.2897 - val_accuracy: 0.8866\n",
            "Epoch 8/20\n",
            "30/30 [==============================] - 1s 24ms/step - loss: 0.1095 - accuracy: 0.9663 - val_loss: 0.3331 - val_accuracy: 0.8733\n",
            "Epoch 9/20\n",
            "30/30 [==============================] - 1s 26ms/step - loss: 0.0927 - accuracy: 0.9739 - val_loss: 0.3348 - val_accuracy: 0.8726\n",
            "Epoch 10/20\n",
            "30/30 [==============================] - 1s 25ms/step - loss: 0.0828 - accuracy: 0.9759 - val_loss: 0.3305 - val_accuracy: 0.8807\n",
            "Epoch 11/20\n",
            "30/30 [==============================] - 1s 26ms/step - loss: 0.0682 - accuracy: 0.9822 - val_loss: 0.3592 - val_accuracy: 0.8803\n",
            "Epoch 12/20\n",
            "30/30 [==============================] - 1s 23ms/step - loss: 0.0623 - accuracy: 0.9846 - val_loss: 0.3692 - val_accuracy: 0.8762\n",
            "Epoch 13/20\n",
            "30/30 [==============================] - 1s 25ms/step - loss: 0.0544 - accuracy: 0.9867 - val_loss: 0.3942 - val_accuracy: 0.8711\n",
            "Epoch 14/20\n",
            "30/30 [==============================] - 1s 40ms/step - loss: 0.0421 - accuracy: 0.9917 - val_loss: 0.4055 - val_accuracy: 0.8765\n",
            "Epoch 15/20\n",
            "30/30 [==============================] - 1s 31ms/step - loss: 0.0362 - accuracy: 0.9934 - val_loss: 0.4312 - val_accuracy: 0.8715\n",
            "Epoch 16/20\n",
            "30/30 [==============================] - 1s 25ms/step - loss: 0.0347 - accuracy: 0.9935 - val_loss: 0.4469 - val_accuracy: 0.8727\n",
            "Epoch 17/20\n",
            "30/30 [==============================] - 1s 25ms/step - loss: 0.0256 - accuracy: 0.9964 - val_loss: 0.4716 - val_accuracy: 0.8728\n",
            "Epoch 18/20\n",
            "30/30 [==============================] - 1s 25ms/step - loss: 0.0232 - accuracy: 0.9968 - val_loss: 0.5006 - val_accuracy: 0.8695\n",
            "Epoch 19/20\n",
            "30/30 [==============================] - 1s 24ms/step - loss: 0.0215 - accuracy: 0.9960 - val_loss: 0.5176 - val_accuracy: 0.8699\n",
            "Epoch 20/20\n",
            "30/30 [==============================] - 1s 23ms/step - loss: 0.0180 - accuracy: 0.9973 - val_loss: 0.5394 - val_accuracy: 0.8707\n"
          ]
        }
      ]
    },
    {
      "cell_type": "code",
      "source": [
        "import matplotlib.pyplot as plt\n",
        "\n",
        "\n",
        "# Plotting the training and validation loss\n",
        "history_dict = history.history\n",
        "loss_values = history_dict[\"loss\"]\n",
        "val_loss_values = history_dict[\"val_loss\"]\n",
        "epochs = range(1, len(loss_values) + 1)\n",
        "\n",
        "plt.plot(epochs, loss_values, \"bo\", label=\"Training loss\")\n",
        "plt.plot(epochs, val_loss_values, \"b\", label=\"Validation loss\")\n",
        "plt.title(\"Training and validation loss\")\n",
        "plt.xlabel(\"Epochs\")\n",
        "plt.ylabel(\"Loss\")\n",
        "plt.legend()\n",
        "plt.show()\n",
        "\n",
        "# print()\n",
        "\n",
        "# # Training and Validation Accuracy\n",
        "plt.clf()\n",
        "acc = history_dict[\"accuracy\"]\n",
        "val_acc = history_dict[\"val_accuracy\"]\n",
        "\n",
        "plt.plot(epochs, acc, \"bo\", label=\"Training acc\")\n",
        "plt.plot(epochs, val_acc, \"b\", label=\"Validation acc\")\n",
        "plt.title(\"Training and validation accuracy\")\n",
        "plt.xlabel(\"Epochs\")\n",
        "plt.ylabel(\"Accuracy\")\n",
        "plt.legend()\n",
        "plt.show()"
      ],
      "metadata": {
        "colab": {
          "base_uri": "https://localhost:8080/",
          "height": 927
        },
        "id": "7p20SmFFXz0V",
        "outputId": "d5ea41bd-6c95-4521-cea7-06b61bff1bbe"
      },
      "execution_count": 17,
      "outputs": [
        {
          "output_type": "display_data",
          "data": {
            "text/plain": [
              "<Figure size 640x480 with 1 Axes>"
            ],
            "image/png": "[encoded data removed]"
          },
          "metadata": {}
        },
        {
          "output_type": "display_data",
          "data": {
            "text/plain": [
              "<Figure size 640x480 with 1 Axes>"
            ],
            "image/png": "[encoded data removed]"
          },
          "metadata": {}
        }
      ]
    },
    {
      "cell_type": "markdown",
      "source": [
        "## Overfitting\n",
        "\n",
        "* The training loss should decrease with every epoch\n",
        "* The training accuracy should increase with every epoch\n",
        "\n",
        "In this example, the training loss and accuracy are what we'd expect. But the valididation loss and accuracy seem to peak at the fourth epoch, and after that, we are overoptimizing on the training data and thus, our data is overfit.\n",
        "\n",
        "To prevent overfitting, we can stop training after 4 epochs. (There are other techniques to mitigate this as well)"
      ],
      "metadata": {
        "id": "xRRlQaHSh6SC"
      }
    },
    {
      "cell_type": "code",
      "source": [
        "# Retraining the model with 4 epochs this time\n",
        "\n",
        "model = keras.Sequential([\n",
        "    layers.Dense(16, activation=\"relu\"),\n",
        "    layers.Dense(16, activation=\"relu\"),\n",
        "    layers.Dense(1, activation=\"sigmoid\")\n",
        "])\n",
        "model.compile(\n",
        "    optimizer=\"rmsprop\",\n",
        "    loss=\"binary_crossentropy\",\n",
        "    metrics=[\"accuracy\"]\n",
        ")\n",
        "\n",
        "model.fit(x_train, y_train, epochs=7, batch_size=516, validation_data=(x_val, y_val))\n",
        "results = model.evaluate(x_test, y_test)\n",
        "\n",
        "print(f\"Results: {results}\")"
      ],
      "metadata": {
        "colab": {
          "base_uri": "https://localhost:8080/"
        },
        "id": "TrqtXk-RjnOn",
        "outputId": "29b51b20-6453-49af-d4e4-c5f9314f50bb"
      },
      "execution_count": 18,
      "outputs": [
        {
          "output_type": "stream",
          "name": "stdout",
          "text": [
            "Epoch 1/7\n",
            "49/49 [==============================] - 3s 40ms/step - loss: 0.4701 - accuracy: 0.8132 - val_loss: 0.3374 - val_accuracy: 0.8784\n",
            "Epoch 2/7\n",
            "49/49 [==============================] - 1s 20ms/step - loss: 0.2774 - accuracy: 0.9034 - val_loss: 0.2384 - val_accuracy: 0.9157\n",
            "Epoch 3/7\n",
            "49/49 [==============================] - 1s 22ms/step - loss: 0.2164 - accuracy: 0.9226 - val_loss: 0.1765 - val_accuracy: 0.9444\n",
            "Epoch 4/7\n",
            "49/49 [==============================] - 1s 20ms/step - loss: 0.1850 - accuracy: 0.9332 - val_loss: 0.1507 - val_accuracy: 0.9536\n",
            "Epoch 5/7\n",
            "49/49 [==============================] - 1s 22ms/step - loss: 0.1608 - accuracy: 0.9444 - val_loss: 0.1465 - val_accuracy: 0.9525\n",
            "Epoch 6/7\n",
            "49/49 [==============================] - 1s 21ms/step - loss: 0.1443 - accuracy: 0.9489 - val_loss: 0.1158 - val_accuracy: 0.9654\n",
            "Epoch 7/7\n",
            "49/49 [==============================] - 1s 21ms/step - loss: 0.1300 - accuracy: 0.9556 - val_loss: 0.1088 - val_accuracy: 0.9672\n",
            "782/782 [==============================] - 2s 3ms/step - loss: 2.2951 - accuracy: 0.5006\n",
            "Results: [2.2951128482818604, 0.5005999803543091]\n"
          ]
        }
      ]
    },
    {
      "cell_type": "markdown",
      "source": [
        "## Key Takeaways:\n",
        "\n",
        "* Typically, you'll need to do quite a bit of preprocessing on raw data in order to be able to feed it (as tensors) into a neural network.\n",
        "* Stacks of Dense Layers with **relu** activations can solve a wide range of problems and will be frequently used\n",
        "* Binary classification problems should end with a Dense layer with 1 unit and a **sigmoid** activation. The output should be a scalar between 0 and 1, indicating a probability\n",
        "* With a sigmoid output on classification problems, use binary_crossentrophy\n",
        "* **rmsprop** optimizer is a good choice regardless of the problem\n",
        "* Monitor performance on data that is outside the training set to prevent overfitting"
      ],
      "metadata": {
        "id": "guucjYE5nwwi"
      }
    }
  ]
}