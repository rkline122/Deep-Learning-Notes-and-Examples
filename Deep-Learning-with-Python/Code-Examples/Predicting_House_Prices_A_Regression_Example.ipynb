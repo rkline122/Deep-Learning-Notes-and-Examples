{
  "nbformat": 4,
  "nbformat_minor": 0,
  "metadata": {
    "colab": {
      "provenance": []
    },
    "kernelspec": {
      "name": "python3",
      "display_name": "Python 3"
    },
    "language_info": {
      "name": "python"
    }
  },
  "cells": [
    {
      "cell_type": "code",
      "execution_count": null,
      "metadata": {
        "id": "5vOK9AVMm8s1"
      },
      "outputs": [],
      "source": [
        "!pip install tensorflow\n",
        "!pip install numpy"
      ]
    },
    {
      "cell_type": "code",
      "source": [
        "from tensorflow.keras.datasets import boston_housing\n",
        "from tensorflow import keras\n",
        "from tensorflow.keras.utils import to_categorical\n",
        "from tensorflow.keras import layers\n",
        "import matplotlib.pyplot as plt\n",
        "import numpy as np"
      ],
      "metadata": {
        "id": "Gt0XbPCFnHYK"
      },
      "execution_count": 34,
      "outputs": []
    },
    {
      "cell_type": "code",
      "source": [
        "# Load the data\n",
        "\n",
        "\"\"\"\n",
        "  - We have 404 training samples and 102 test samples, each with 13 numerical \n",
        "  features, such as per capita crime rate, average number of rooms per dwelling,\n",
        "  accessibility to highways, and so on.\n",
        "\n",
        "  - The targets are the median values of owner-occupied homes, in thousands \n",
        "  of dollars.\n",
        "\"\"\"\n",
        "\n",
        "(train_data, train_targets), (test_data, test_targets) = (\n",
        "    boston_housing.load_data()\n",
        ")"
      ],
      "metadata": {
        "id": "5bKsp-y9nKpr"
      },
      "execution_count": 35,
      "outputs": []
    },
    {
      "cell_type": "code",
      "source": [
        "# Prepare the data with feature-wise normalization\n",
        "\n",
        "\"\"\"\n",
        "  Note that the quantities used for normalizing the test data are computed \n",
        "  using the training data. \n",
        "\n",
        "  You should never use any quantity computed on the test data in your workflow, \n",
        "  even for something as simple as data normalization. \n",
        "\"\"\"\n",
        "\n",
        "mean = train_data.mean(axis=0)\n",
        "train_data -= mean\n",
        "\n",
        "std = train_data.std(axis=0)\n",
        "train_data /= std\n",
        "\n",
        "test_data -= mean\n",
        "test_data /= mean\n",
        "\n"
      ],
      "metadata": {
        "id": "dEk9YWllos8K"
      },
      "execution_count": 36,
      "outputs": []
    },
    {
      "cell_type": "code",
      "source": [
        "#  Building the Model\n",
        "\n",
        "\"\"\"\n",
        "  - The less training data you have, the worse overfitting will be.\n",
        "\n",
        "  - Use a small model to mitigate this.\n",
        "\"\"\"\n",
        "\n",
        "def build_model():\n",
        "  model = keras.Sequential([\n",
        "      layers.Dense(64, activation=\"relu\"),\n",
        "      # layers.Dense(32, activation=\"relu\"),\n",
        "      layers.Dense(1)   # No activation is typical for a scalar regression (trying to predict a single continuous value)\n",
        "                        # If applied a sigmoid activation function to the last layer, the model could only learn to predict values between 0 and 1. \n",
        "                        # Because the last layer is purely linear, the model is free to learn to predict values in any range.\n",
        "  ])\n",
        "\n",
        "  model.compile(\n",
        "      optimizer=\"rmsprop\",\n",
        "      loss=\"mse\", # Mean squared error - square of the difference between the predictions and the targets (widely used in regression problems)\n",
        "      metrics=[\"mae\"] # Mean absolute error - Absolute value of the difference between the predictions and the targets.\n",
        "  )\n",
        "\n",
        "  return model\n"
      ],
      "metadata": {
        "id": "v2RHIIdkpj1d"
      },
      "execution_count": 37,
      "outputs": []
    },
    {
      "cell_type": "code",
      "source": [
        "# Validating Model with K-fold validation\n",
        "\n",
        "\"\"\"\n",
        "  - Split the available data into K partitions (typically K = 4 or 5) \n",
        "\n",
        "  - Instantiate K identical models, and train each one on K – 1 partitions \n",
        "    while evaluating on the remaining partition. \n",
        "\n",
        "  - The validation score for the model used is then the average of the K \n",
        "    validation scores obtained. \n",
        "\"\"\"\n",
        "\n",
        "k = 4 \n",
        "num_val_samples = len(train_data) // k\n",
        "num_epochs = 125 \n",
        "all_mae_histories = []\n",
        "\n",
        "for i in range(k):\n",
        "    print(f\"Processing fold #{i}\")\n",
        "    val_data = train_data[i * num_val_samples: (i + 1) * num_val_samples]\n",
        "    val_targets = train_targets[i * num_val_samples: (i + 1) * num_val_samples]\n",
        "    partial_train_data = np.concatenate(\n",
        "        [train_data[:i * num_val_samples],\n",
        "         train_data[(i + 1) * num_val_samples:]],\n",
        "        axis=0)\n",
        "    partial_train_targets = np.concatenate(\n",
        "        [train_targets[:i * num_val_samples],\n",
        "         train_targets[(i + 1) * num_val_samples:]],\n",
        "        axis=0)\n",
        "    model = build_model()\n",
        "    history = model.fit(partial_train_data, partial_train_targets,\n",
        "                        validation_data=(val_data, val_targets),\n",
        "                        epochs=num_epochs, batch_size=16, verbose=0)\n",
        "    mae_history = history.history[\"val_mae\"]\n",
        "    all_mae_histories.append(mae_history)\n",
        "\n",
        "\n",
        "# Compute average of the per-epoch MAE scores for all folds\n",
        "\n",
        "average_mae_history = [np.mean([x[i] for x in all_mae_histories]) for i in range(num_epochs)]\n",
        "\n",
        "\n",
        "# Plot Scores\n",
        "\n",
        "plt.plot(range(1, len(average_mae_history) + 1), average_mae_history)\n",
        "plt.xlabel(\"Epochs\")\n",
        "plt.ylabel(\"Validation MAE\")\n",
        "plt.show()\n"
      ],
      "metadata": {
        "colab": {
          "base_uri": "https://localhost:8080/",
          "height": 525
        },
        "id": "ec-PvFpMrRrD",
        "outputId": "12fbd06f-72e9-42f7-da4c-6401cdbc3401"
      },
      "execution_count": 38,
      "outputs": [
        {
          "output_type": "stream",
          "name": "stdout",
          "text": [
            "Processing fold #0\n",
            "Processing fold #1\n",
            "Processing fold #2\n",
            "Processing fold #3\n"
          ]
        },
        {
          "output_type": "display_data",
          "data": {
            "text/plain": [
              "<Figure size 640x480 with 1 Axes>"
            ],
            "image/png": "[encoded data removed]"
          },
          "metadata": {}
        }
      ]
    },
    {
      "cell_type": "code",
      "source": [
        "truncated_mae_history = average_mae_history[10:]\n",
        "plt.plot(range(1, len(truncated_mae_history) + 1), truncated_mae_history)\n",
        "plt.xlabel(\"Epochs\")\n",
        "plt.ylabel(\"Validation MAE\")\n",
        "plt.show()"
      ],
      "metadata": {
        "colab": {
          "base_uri": "https://localhost:8080/",
          "height": 449
        },
        "id": "WO_cXIYZvbNq",
        "outputId": "3b4039bc-c79f-49e3-c965-29de32f12391"
      },
      "execution_count": 39,
      "outputs": [
        {
          "output_type": "display_data",
          "data": {
            "text/plain": [
              "<Figure size 640x480 with 1 Axes>"
            ],
            "image/png": "[encoded data removed]"
          },
          "metadata": {}
        }
      ]
    },
    {
      "cell_type": "code",
      "source": [
        "# Training the final model\n",
        "\n",
        "model = build_model()\n",
        "model.fit(\n",
        "    train_data, \n",
        "    train_targets,\n",
        "    epochs=125,\n",
        "    batch_size=16,\n",
        "    verbose=0\n",
        ")\n",
        "test_mse_score, test_mae_score = model.evaluate(test_data, test_targets)\n",
        "\n",
        "print(test_mae_score)"
      ],
      "metadata": {
        "colab": {
          "base_uri": "https://localhost:8080/"
        },
        "id": "ikIFGhXFyCEh",
        "outputId": "9efe6d7c-79ed-42cc-fb5b-6a2cf108ad5b"
      },
      "execution_count": 40,
      "outputs": [
        {
          "output_type": "stream",
          "name": "stdout",
          "text": [
            "4/4 [==============================] - 0s 7ms/step - loss: 120.7795 - mae: 7.0525\n",
            "7.05248498916626\n"
          ]
        }
      ]
    },
    {
      "cell_type": "markdown",
      "source": [
        "## Key Takeaways\n",
        "\n",
        "* Regression is a technique used to predict a continuous numerical value based on a set of input features. The goal of regression is to find the relationship between the input features and the output value, and use that relationship to make predictions on new data.\n",
        "* Use different loss functions for regression (typically mse)\n",
        "* The concept of accuracy doesn't apply for regression. Use MAE instead\n",
        "* When features in the input data have values in different ranges, each feature should be scaled independently as a preprocessing step\n",
        "* When there is little data available, use K-fold validation. Additionally, use a small model with few intermediate steps to avoid overfitting.\n"
      ],
      "metadata": {
        "id": "ZYUwgSXqzcB_"
      }
    }
  ]
}